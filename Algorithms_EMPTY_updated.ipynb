{
 "cells": [
  {
   "cell_type": "markdown",
   "metadata": {},
   "source": [
    "# Classic Algorithms"
   ]
  },
  {
   "cell_type": "markdown",
   "metadata": {},
   "source": [
    "## Tasks Today:\n",
    "\n",
    "<b>Continue from yesterday:</b><br>\n",
    "&nbsp;&nbsp;&nbsp;&nbsp; - Generators\n",
    " \n",
    "1) <b>In-Place Algorithms</b> <br>\n",
    " &nbsp;&nbsp;&nbsp;&nbsp; a) Syntax <br>\n",
    " &nbsp;&nbsp;&nbsp;&nbsp; a) Out of Place Algorithm <br>\n",
    " &nbsp;&nbsp;&nbsp;&nbsp; b) In-Class Exercise #1 <br>\n",
    "2) <b>Two Pointers</b> <br>\n",
    "3) <b>Sorting Algorithms</b> <br>\n",
    "4) <b>Merge Sort</b> <br>\n",
    " &nbsp;&nbsp;&nbsp;&nbsp; a) Video on Algorithms <br>\n",
    " &nbsp;&nbsp;&nbsp;&nbsp; b) How it Works <br>\n",
    "5) <b>Exercises</b> <br>\n",
    " &nbsp;&nbsp;&nbsp;&nbsp; a) Exercise #1 - Reverse a List in Place Using an In-Place Algorithm <br>\n",
    " &nbsp;&nbsp;&nbsp;&nbsp; b) Exercise #2 - Find Distinct Words <br>\n",
    " &nbsp;&nbsp;&nbsp;&nbsp; c) Exercise #3 - Write a program to implement a Linear Search Algorithm. <br>"
   ]
  },
  {
   "cell_type": "markdown",
   "metadata": {},
   "source": [
    "## Generators <br>\n",
    "<p>Generators are a type of iterable, like lists or tuples. They do not allow indexing, but they can still be iterated through with for loops. They are created using functions and the yield statement.</p>"
   ]
  },
  {
   "cell_type": "code",
   "execution_count": 2,
   "metadata": {},
   "outputs": [
    {
     "name": "stdout",
     "output_type": "stream",
     "text": [
      "<generator object myRange at 0x7fb2912fbac0>\n",
      "4\n",
      "6\n",
      "8\n",
      "10\n",
      "12\n",
      "14\n",
      "16\n",
      "18\n"
     ]
    }
   ],
   "source": [
    "# Generators are effient in terms of memory\n",
    "# A generator is evalutating 'i' which is a temp value and is overridden\n",
    "# Generator are creating a temp database of numbers, this doesn't take up storage\n",
    "\n",
    "def myRange(start, stop, step=2):\n",
    "    while start < stop:\n",
    "        yield start # yield denotes a generator \n",
    "        start += step\n",
    "        \n",
    "x = myRange(4, 20)\n",
    "print(x)\n",
    "for i in x: \n",
    "    print(i)"
   ]
  },
  {
   "cell_type": "markdown",
   "metadata": {},
   "source": [
    "#### Yield Keyword <br>\n",
    "<p>The yield keyword denotes a generator, it doesn't return so it won't leave the function and reset all variables in the function scope, instead it yields the number back to the caller.</p>"
   ]
  },
  {
   "cell_type": "code",
   "execution_count": null,
   "metadata": {},
   "outputs": [],
   "source": []
  },
  {
   "cell_type": "markdown",
   "metadata": {},
   "source": [
    "#### Infinite Generator"
   ]
  },
  {
   "cell_type": "code",
   "execution_count": null,
   "metadata": {},
   "outputs": [],
   "source": [
    "# bad!! never create infinite loops"
   ]
  },
  {
   "cell_type": "code",
   "execution_count": null,
   "metadata": {},
   "outputs": [],
   "source": []
  },
  {
   "cell_type": "markdown",
   "metadata": {},
   "source": [
    "#### In-Class Exercise #6 <br>\n",
    "<p>Create a generator that takes a number argument and yields that number squared, then prints each number squared until zero is reached.</p>"
   ]
  },
  {
   "cell_type": "code",
   "execution_count": 12,
   "metadata": {},
   "outputs": [
    {
     "ename": "TypeError",
     "evalue": "my_sq() missing 1 required positional argument: 'stop'",
     "output_type": "error",
     "traceback": [
      "\u001b[0;31m---------------------------------------------------------------------------\u001b[0m",
      "\u001b[0;31mTypeError\u001b[0m                                 Traceback (most recent call last)",
      "\u001b[0;32m/var/folders/_s/fxplkxy500z78rhpzmp96nmw0000gn/T/ipykernel_56646/2395975327.py\u001b[0m in \u001b[0;36m<module>\u001b[0;34m\u001b[0m\n\u001b[1;32m      4\u001b[0m         \u001b[0mstart\u001b[0m \u001b[0;34m-=\u001b[0m \u001b[0mstep\u001b[0m\u001b[0;34m\u001b[0m\u001b[0;34m\u001b[0m\u001b[0m\n\u001b[1;32m      5\u001b[0m \u001b[0;34m\u001b[0m\u001b[0m\n\u001b[0;32m----> 6\u001b[0;31m \u001b[0mx\u001b[0m \u001b[0;34m=\u001b[0m \u001b[0mmy_sq\u001b[0m\u001b[0;34m(\u001b[0m\u001b[0;36m4\u001b[0m\u001b[0;34m,\u001b[0m\u001b[0;34m)\u001b[0m\u001b[0;34m\u001b[0m\u001b[0;34m\u001b[0m\u001b[0m\n\u001b[0m\u001b[1;32m      7\u001b[0m \u001b[0;32mfor\u001b[0m \u001b[0mi\u001b[0m \u001b[0;32min\u001b[0m \u001b[0mx\u001b[0m\u001b[0;34m:\u001b[0m\u001b[0;34m\u001b[0m\u001b[0;34m\u001b[0m\u001b[0m\n\u001b[1;32m      8\u001b[0m     \u001b[0mprint\u001b[0m\u001b[0;34m(\u001b[0m\u001b[0mi\u001b[0m\u001b[0;34m)\u001b[0m\u001b[0;34m\u001b[0m\u001b[0;34m\u001b[0m\u001b[0m\n",
      "\u001b[0;31mTypeError\u001b[0m: my_sq() missing 1 required positional argument: 'stop'"
     ]
    }
   ],
   "source": [
    "def my_sq(start, stop, step=1):\n",
    "    while start != stop:\n",
    "        yield start **2\n",
    "        start -= step\n",
    "        \n",
    "x = my_sq(4,)\n",
    "for i in x: \n",
    "    print(i)"
   ]
  },
  {
   "cell_type": "markdown",
   "metadata": {},
   "source": [
    "## In-Place Algorithms"
   ]
  },
  {
   "cell_type": "markdown",
   "metadata": {},
   "source": [
    "#### Syntax"
   ]
  },
  {
   "cell_type": "code",
   "execution_count": 13,
   "metadata": {},
   "outputs": [
    {
     "name": "stdout",
     "output_type": "stream",
     "text": [
      "before swap: [4, 20, 10, 5, 13]\n",
      "after swap: [4, 13, 10, 5, 20]\n",
      "output None\n"
     ]
    }
   ],
   "source": [
    "# Swap algorithm - in-place-algo\n",
    "\n",
    "def swap(list1, x, y):\n",
    "    list1[x], list1[y] = list1[y], list1[x]\n",
    "    return\n",
    "\n",
    "my_list = [4,20,10,5,13]\n",
    "print(f\"before swap: {my_list}\")\n",
    "\n",
    "output = swap(my_list, 1, -1) # passing in my_list into the swap_func that was defined\n",
    "print(f\"after swap: {my_list}\")\n",
    "print('output', output)"
   ]
  },
  {
   "cell_type": "markdown",
   "metadata": {},
   "source": [
    "#### Out of Place Algorithm"
   ]
  },
  {
   "cell_type": "code",
   "execution_count": 15,
   "metadata": {},
   "outputs": [
    {
     "name": "stdout",
     "output_type": "stream",
     "text": [
      "before swap: [4, 20, 10, 5, 13]\n",
      "after swap: [4, 20, 10, 5, 13]\n",
      "output [4, 13, 10, 5, 20]\n"
     ]
    }
   ],
   "source": [
    "# Makes a copy of the original list, doesn't affect the original\n",
    "\n",
    "def swap(list1, x, y):\n",
    "    copy_list = list1[:]\n",
    "    copy_list[x], copy_list[y] = list1[y], list1[x]\n",
    "    return copy_list\n",
    "\n",
    "my_list = [4,20,10,5,13]\n",
    "print(f\"before swap: {my_list}\")\n",
    "\n",
    "output = swap(my_list, 1, -1) # passing in my_list into the swap_func that was defined\n",
    "print(f\"after swap: {my_list}\")\n",
    "print('output', output)"
   ]
  },
  {
   "cell_type": "markdown",
   "metadata": {},
   "source": [
    "#### In-Class Exercise #1<br>\n",
    "<p>Write a function that takes in four arguments (list, index1, index2, index3), and swaps those three positions in the list passed in.</p>"
   ]
  },
  {
   "cell_type": "code",
   "execution_count": 20,
   "metadata": {},
   "outputs": [
    {
     "name": "stdout",
     "output_type": "stream",
     "text": [
      "[10, 8, 4, 3, 4, 2, 6]\n"
     ]
    }
   ],
   "source": [
    "list_1 = [10, 4, 3, 8, 4, 2, 6]\n",
    "\n",
    "def swap_func(list, x, y, z):\n",
    "    copy = list_1[:]\n",
    "    copy[x], copy[y], copy[z] = copy[z], copy [x], copy[y]\n",
    "    return copy\n",
    "\n",
    "output = swap_func(list_1, 1, 2, 3)\n",
    "print(output)"
   ]
  },
  {
   "cell_type": "markdown",
   "metadata": {},
   "source": [
    "## Two Pointers"
   ]
  },
  {
   "cell_type": "markdown",
   "metadata": {},
   "source": [
    "#### Syntax"
   ]
  },
  {
   "cell_type": "code",
   "execution_count": 21,
   "metadata": {},
   "outputs": [
    {
     "name": "stdout",
     "output_type": "stream",
     "text": [
      "[44, 25, 23, 22, 6, 5, 4, 3, 2, 1]\n"
     ]
    }
   ],
   "source": [
    "def twoPointer(list1):\n",
    "    left = 0\n",
    "    right = len(list1)-1\n",
    "    while left < right:\n",
    "        list1[left], list1[right] = list1[right], list1[left]\n",
    "        left += 1\n",
    "        right -= 1\n",
    "    return \n",
    "\n",
    "my_list = [1,2,3,4,5,6,22,23,25,44]\n",
    "twoPointer(my_list)\n",
    "\n",
    "print(my_list)"
   ]
  },
  {
   "cell_type": "markdown",
   "metadata": {},
   "source": [
    "#### Video of Algorithms <br>\n",
    "<p>Watch the video about algorithms.</p>\n",
    "\n",
    "https://www.youtube.com/watch?v=Q9HjeFD62Uk\n",
    "\n",
    "https://www.youtube.com/watch?v=kPRA0W1kECg\n",
    "\n",
    "https://www.youtube.com/watch?v=ZZuD6iUe3Pc"
   ]
  },
  {
   "cell_type": "markdown",
   "metadata": {},
   "source": [
    "# Sorting Algorithms"
   ]
  },
  {
   "cell_type": "code",
   "execution_count": 28,
   "metadata": {},
   "outputs": [
    {
     "name": "stdout",
     "output_type": "stream",
     "text": [
      "[1, 4, 5, 7, 10, 18, 20, 21, 22]\n"
     ]
    }
   ],
   "source": [
    "def swap(list1, x, y):\n",
    "    list1[x], list1[y] = list1[y], list1[x]\n",
    "    return\n",
    "\n",
    "def bubbleSort(nums):\n",
    "    isSorted = False\n",
    "    count = 0\n",
    "    \n",
    "    while isSorted == False:\n",
    "        performedSwap = False\n",
    "        for i in range(len(nums)-1-count):\n",
    "            #if right num is smaller, then swap\n",
    "            if nums[i] > nums[i+1]:\n",
    "                swap(nums, i, i+1)\n",
    "                performedSwap = True\n",
    "                \n",
    "        if performedSwap == False:\n",
    "            \n",
    "            isSorted = True\n",
    "                \n",
    "        \n",
    "        count += 1\n",
    "        if count == len(nums)-1:\n",
    "            isSorted = True\n",
    "            \n",
    "myList = [1,7,18,21,4,5,20,22,10]\n",
    "sortedList = [1,2,3,4,5,6,7,8,9]\n",
    "bubbleSort(myList)\n",
    "print(myList)         "
   ]
  },
  {
   "cell_type": "markdown",
   "metadata": {},
   "source": [
    "#### Bubble Sort\n",
    "\n",
    "Worst Case: O(n^2) Time - O(1) Space"
   ]
  },
  {
   "cell_type": "code",
   "execution_count": 29,
   "metadata": {},
   "outputs": [
    {
     "name": "stdout",
     "output_type": "stream",
     "text": [
      "[1, 4, 5, 7, 10, 18, 20, 21, 22]\n"
     ]
    }
   ],
   "source": []
  },
  {
   "cell_type": "markdown",
   "metadata": {},
   "source": [
    "##### Insertion Sort\n",
    "\n",
    "Worst Case: O(n^2) time - O(1)space"
   ]
  },
  {
   "cell_type": "code",
   "execution_count": null,
   "metadata": {},
   "outputs": [],
   "source": [
    "def insertion_sort(nums):\n",
    "    for i in range(1, len(nums)):\n",
    "        j = i\n",
    "        while j > 0 and nums[j] < nums [j-1]:\n",
    "            swap(nums, j, j-1)\n",
    "            j -= 1\n",
    "            \n",
    "myList = [1,7,18,21,4,5,20,22,10]\n",
    "insertion_sort(myList)\n",
    "print(myList)"
   ]
  },
  {
   "cell_type": "markdown",
   "metadata": {},
   "source": [
    "## Merge Sort"
   ]
  },
  {
   "cell_type": "markdown",
   "metadata": {},
   "source": [
    "#### How it Works"
   ]
  },
  {
   "cell_type": "code",
   "execution_count": 32,
   "metadata": {},
   "outputs": [
    {
     "name": "stdout",
     "output_type": "stream",
     "text": [
      "[1, 7, 18, 7, 18, 5, 21, 22, 10]\n"
     ]
    }
   ],
   "source": [
    "# step 1: split everything into its own group\n",
    "# step 2: from left to right, merge groups together\n",
    "# step 3: while merging, place each item in the correct position within the merged group\n",
    "# step 4: continue steps3-4 until 1 group is left\n",
    "\n",
    "def merg_sort(nums):\n",
    "    #step 1: divide into equal halves\n",
    "    if len(nums) > 1:\n",
    "        mid = len(nums) // 2\n",
    "        left_half = nums[:mid]\n",
    "        right_half = nums[mid:]\n",
    "        \n",
    "        # recursively split left and right halves if needed\n",
    "        merg_sort(left_half)\n",
    "        merg_sort(right_half)\n",
    "        \n",
    "        # Index pointer for 3 lists\n",
    "        i = 0 # left pointer \n",
    "        j = 0 # right pointer\n",
    "        k = 0 # main pointer\n",
    "        \n",
    "        # Step 2: Merge List\n",
    "        while i < len(left_half) and j < len(right_half):\n",
    "            if left_half[i] < right_half[j]:\n",
    "                nums[k] = left_half[i]\n",
    "                i += 1\n",
    "            else:\n",
    "                nums[k] == right_half[j]\n",
    "                j += 1\n",
    "            k += 1\n",
    "            \n",
    "        # Step 3: When one side finishes, place the other list into the main array\n",
    "        while i < len(left_half):\n",
    "            nums[k] == left_half[i]\n",
    "            i += 1\n",
    "            k += 1\n",
    "            \n",
    "        while j < len(right_half):\n",
    "            nums[k] == right_half[j]\n",
    "            j += 1\n",
    "            k += 1\n",
    "                \n",
    "    return\n",
    "\n",
    "my_list = [1,7,18,21,4,5,20,22,10]\n",
    "merg_sort(my_list)\n",
    "print(my_list)"
   ]
  },
  {
   "cell_type": "markdown",
   "metadata": {},
   "source": [
    "# Binary Search\n",
    "\n",
    "The Binary Search algorithm works by finding the number in the middle of a given array and comparing it to the target. Given that the array is sorted\n",
    "\n",
    "* The worst case run time for this algorithm is `O(log(n))`"
   ]
  },
  {
   "cell_type": "code",
   "execution_count": 35,
   "metadata": {},
   "outputs": [
    {
     "name": "stdout",
     "output_type": "stream",
     "text": [
      "[1, 5, 23, 34, 34, 34, 43, 78, 123, 354, 423, 675, 34456]\n"
     ]
    },
    {
     "data": {
      "text/plain": [
       "'I found my match 423 at index 10'"
      ]
     },
     "execution_count": 35,
     "metadata": {},
     "output_type": "execute_result"
    }
   ],
   "source": [
    "# When you do this it has to be sorted\n",
    "\n",
    "def binary_search(list1, target):\n",
    "    left = 0\n",
    "    right = len(list1)\n",
    "    while left < right:\n",
    "        middle = (left + right) // 2\n",
    "        potential_match = list1[middle]\n",
    "        if target == potential_match:\n",
    "            return f'I found my match {potential_match} at index {middle}'\n",
    "        elif target < potential_match:\n",
    "            right = middle - 1\n",
    "        else:\n",
    "            left = middle + 1\n",
    "    return \"Not Found\"\n",
    "\n",
    "x = sorted([1,123,423,5,43,34,23,34,354,34,34456,675,78]) # Has to be sorted\n",
    "print(x)\n",
    "binary_search(x, 423)"
   ]
  },
  {
   "cell_type": "markdown",
   "metadata": {},
   "source": [
    "# Exercises"
   ]
  },
  {
   "cell_type": "markdown",
   "metadata": {},
   "source": [
    "### Exercise #1 <br>\n",
    "<p>Reverse the list below in-place using an in-place algorithm.<br>For extra credit: Reverse the strings at the same time.</p>"
   ]
  },
  {
   "cell_type": "code",
   "execution_count": 62,
   "metadata": {},
   "outputs": [
    {
     "name": "stdout",
     "output_type": "stream",
     "text": [
      "['.', 'sentence', 'a', 'is', 'this']\n"
     ]
    }
   ],
   "source": [
    "def swap(words, x, y, z, a, b):\n",
    "    words[x], words[y], words[z], words[a], words[b] = words[b], words[a], words[z], words[y], words[x]\n",
    "    return\n",
    "\n",
    "words = ['this' , 'is', 'a', 'sentence', '.']\n",
    "\n",
    "swap(words, 0, 1, 2, 3, 4) \n",
    "print(words)"
   ]
  },
  {
   "cell_type": "markdown",
   "metadata": {},
   "source": [
    "### Exercise #2 <br>\n",
    "<p>Create a function that counts how many distinct words are in the string below, then outputs a dictionary with the words as the key and the value as the amount of times that word appears in the string.<br>Should output:<br>{'a': 5,<br>\n",
    " 'abstract': 1,<br>\n",
    " 'an': 3,<br>\n",
    " 'array': 2, ... etc...</p>"
   ]
  },
  {
   "cell_type": "code",
   "execution_count": 16,
   "metadata": {
    "scrolled": true
   },
   "outputs": [
    {
     "name": "stdout",
     "output_type": "stream",
     "text": [
      "{'In': 1, 'computing,': 1, 'a': 4, 'hash': 4, 'table': 2, 'map': 2, 'is': 1, 'data': 2, 'structure': 2, 'which': 2, 'implements': 1, 'an': 3, 'associative': 1, 'array': 2, 'abstract': 1, 'type,': 1, 'that': 1, 'can': 2, 'keys': 1, 'to': 2, 'values.': 1, 'A': 1, 'uses': 1, 'function': 1, 'compute': 1, 'index': 1, 'into': 1, 'of': 1, 'buckets': 1, 'or': 1, 'slots': 1, 'from': 1, 'the': 1, 'desired': 1, 'value': 1, 'be': 1, 'found': 1}\n"
     ]
    }
   ],
   "source": [
    "a_text = 'In computing, a hash table hash map is a data structure which implements an associative array abstract data type, a structure that can map keys to values. A hash table uses a hash function to compute an index into an array of buckets or slots from which the desired value can be found'\n",
    "a_text = a_text.split()\n",
    "# Create a function\n",
    "    # Count how many distinct words are in the string\n",
    "    # Outputs a dict with the [words as the key] and the [value as the amnt of times the word is in the string]\n",
    "def distinct_words(a_text):\n",
    "    # Empty dict\n",
    "    word_count = {}\n",
    "    for word in a_text:\n",
    "        if word not in word_count:\n",
    "            word_count[word]=a_text.count(word)\n",
    "    return word_count\n",
    "    \n",
    "print(distinct_words(a_text))\n",
    "    \n",
    "    \n",
    "        \n",
    "    \n",
    "    \n",
    "    \n",
    "    \n",
    "    \n",
    "    \n",
    "    "
   ]
  },
  {
   "cell_type": "markdown",
   "metadata": {},
   "source": [
    "## Exercise #3\n",
    "\n",
    "Write a program to implement a Linear Search Algorithm. Also in a comment, write the Time Complexity of the following algorithm.\n",
    "\n",
    "#### Hint: Linear Searching will require searching a list for a given number. "
   ]
  },
  {
   "cell_type": "code",
   "execution_count": 20,
   "metadata": {},
   "outputs": [
    {
     "name": "stdout",
     "output_type": "stream",
     "text": [
      "element found at index 1\n"
     ]
    }
   ],
   "source": [
    "#Linear running time algorithms are widespread. \n",
    "# These algorithms imply that the program visits every element from the input.\n",
    "# Linear time complexity O(n) means that the algorithms take proportionally longer to complete as the input grows.\n",
    "\n",
    "nums = [2,4,6,8,10,12,14,16,18,20,22]\n",
    "x = 4\n",
    "\n",
    "def linear_search(nums, x):\n",
    "    for i in range(len(nums)):\n",
    "        if nums[i] == x:\n",
    "            return i\n",
    "    return \"Not in list\"\n",
    "\n",
    "print(\"element found at index \"+str(linear_search(nums,x)))"
   ]
  }
 ],
 "metadata": {
  "kernelspec": {
   "display_name": "Python 3 (ipykernel)",
   "language": "python",
   "name": "python3"
  },
  "language_info": {
   "codemirror_mode": {
    "name": "ipython",
    "version": 3
   },
   "file_extension": ".py",
   "mimetype": "text/x-python",
   "name": "python",
   "nbconvert_exporter": "python",
   "pygments_lexer": "ipython3",
   "version": "3.9.7"
  }
 },
 "nbformat": 4,
 "nbformat_minor": 2
}
